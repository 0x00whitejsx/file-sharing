{
 "cells": [
  {
   "cell_type": "markdown",
   "id": "4450165a-4bf0-4e39-baae-a681a03a146f",
   "metadata": {},
   "source": [
    "# CSC ASSIGNMENT \n",
    "## BY:  __ | __|__\n",
    "_______________\n",
    "\n",
    "### COURSE WORK:\n",
    "\n",
    "- Using these AI chat tools namely ChatGPT, Perplexity AI and BlackBox AI demonstrate how prompts can be used to design, develop and -deploy a multimedia app on a server. \n",
    "\n",
    "###### Submit both the prompts and the results in chronological order. \n",
    "\n",
    "  "
   ]
  },
  {
   "cell_type": "markdown",
   "id": "381eb2bc-cb77-4bd6-b0d5-e6f5844e97c6",
   "metadata": {},
   "source": [
    "# step 1\n",
    " explain the step to achieve this \"Using these AI chat tools namely ChatGPT, Perplexity AI and BlackBox AI demonstrate how prompts can be used to design, develop, and -deploy a multimedia app on a server.\" and what is expected from me\n",
    " \n"
   ]
  },
  {
   "cell_type": "markdown",
   "id": "fbb5a098-73d9-4b48-8d2e-e60cfa8efc67",
   "metadata": {},
   "source": [
    "## Expected Outcome\n",
    "By following these steps and utilizing the AI chat tools effectively, you should be able to:\n",
    "\n",
    "#### Clearly define and document the requirements and features of your multimedia app.\n",
    "* Design user-friendly wireframes.\n",
    "* Choose an appropriate technology stack.\n",
    "* Set up a basic backend server and implement file upload functionality.\n",
    "* Develop the frontend components for user interactions.\n",
    "* Prepare your application for deployment and successfully deploy it on a server.\n"
   ]
  },
  {
   "cell_type": "markdown",
   "id": "be16d378-a96c-42b5-b855-c35ec77ffb0d",
   "metadata": {},
   "source": [
    "# step 2 \n",
    "\n",
    "write a programm the allow user to upload their school material and share the link with another student, The UI of the application should be seamless and beautiful and bootstrap for the the framework "
   ]
  },
  {
   "cell_type": "markdown",
   "id": "fed24db0-ab66-4d6d-8296-6cd273ef5ce7",
   "metadata": {},
   "source": [
    "## response \n",
    "\n",
    "\n",
    "Below is a simple example of a web application that allows users to upload school materials and share the link with others. The application uses Node.js for the backend and Express.js for handling the server. The frontend is created using Bootstrap for a seamless and beautiful UI.\n",
    "\n",
    "Backend (Node.js with Express.js)\n",
    "1. Install Necessary Packages\n",
    "First, initialize your Node.js project and install the necessary packages:\n",
    "\n"
   ]
  },
  {
   "cell_type": "code",
   "execution_count": null,
   "id": "9869c8b3-b704-4075-b4c6-7a2b972c704e",
   "metadata": {},
   "outputs": [],
   "source": [
    "npm init -y\n",
    "npm install express multer uuid\n"
   ]
  },
  {
   "cell_type": "markdown",
   "id": "23b3afd2-c087-488a-b82b-22fc5cb440a3",
   "metadata": {},
   "source": [
    "2. Create the Server\n",
    "Create a file named server.js and add the following code:"
   ]
  },
  {
   "cell_type": "code",
   "execution_count": null,
   "id": "08ef1c74-3920-49a7-a003-06063471d098",
   "metadata": {},
   "outputs": [],
   "source": [
    "const express = require('express');\n",
    "const multer = require('multer');\n",
    "const { v4: uuidv4 } = require('uuid');\n",
    "const path = require('path');\n",
    "const app = express();\n",
    "const PORT = process.env.PORT || 3000;\n",
    "\n",
    "// Configure Multer for file uploads\n",
    "const storage = multer.diskStorage({\n",
    "  destination: (req, file, cb) => {\n",
    "    cb(null, 'uploads/');\n",
    "  },\n",
    "  filename: (req, file, cb) => {\n",
    "    cb(null, uuidv4() + path.extname(file.originalname));\n",
    "  }\n",
    "});\n",
    "const upload = multer({ storage: storage });\n",
    "\n",
    "app.use(express.static('public'));\n",
    "app.use(express.json());\n",
    "app.use(express.urlencoded({ extended: true }));\n",
    "\n",
    "// Handle file upload\n",
    "app.post('/upload', upload.single('material'), (req, res) => {\n",
    "  const fileUrl = `${req.protocol}://${req.get('host')}/uploads/${req.file.filename}`;\n",
    "  res.json({ fileUrl });\n",
    "});\n",
    "\n",
    "// Serve uploads\n",
    "app.use('/uploads', express.static(path.join(__dirname, 'uploads')));\n",
    "\n",
    "app.listen(PORT, () => {\n",
    "  console.log(`Server is running on http://localhost:${PORT}`);\n",
    "});\n"
   ]
  },
  {
   "cell_type": "markdown",
   "id": "e824ae95-1e69-4d2f-964b-e9c849cc2711",
   "metadata": {},
   "source": [
    "Frontend (HTML with Bootstrap)\n",
    "1. Create the Frontend\n",
    "Create a folder named public and inside it, create an index.html file with the following code:"
   ]
  },
  {
   "cell_type": "code",
   "execution_count": null,
   "id": "21b8f27a-8e1d-4171-b2cb-c5965c472633",
   "metadata": {},
   "outputs": [],
   "source": [
    "<!DOCTYPE html>\n",
    "<html lang=\"en\">\n",
    "<head>\n",
    "  <meta charset=\"UTF-8\">\n",
    "  <meta name=\"viewport\" content=\"width=device-width, initial-scale=1.0\">\n",
    "  <title>School Material Upload</title>\n",
    "  <link href=\"https://stackpath.bootstrapcdn.com/bootstrap/4.5.2/css/bootstrap.min.css\" rel=\"stylesheet\">\n",
    "</head>\n",
    "<body>\n",
    "  <div class=\"container mt-5\">\n",
    "    <h1 class=\"text-center\">Upload School Material</h1>\n",
    "    <form id=\"uploadForm\">\n",
    "      <div class=\"form-group\">\n",
    "        <label for=\"material\">Choose File</label>\n",
    "        <input type=\"file\" class=\"form-control\" id=\"material\" name=\"material\" required>\n",
    "      </div>\n",
    "      <button type=\"submit\" class=\"btn btn-primary\">Upload</button>\n",
    "    </form>\n",
    "    <div id=\"linkContainer\" class=\"mt-3\" style=\"display: none;\">\n",
    "      <h3>Share this link:</h3>\n",
    "      <a id=\"fileLink\" href=\"#\" target=\"_blank\"></a>\n",
    "    </div>\n",
    "  </div>\n",
    "  <script>\n",
    "    document.getElementById('uploadForm').addEventListener('submit', async (e) => {\n",
    "      e.preventDefault();\n",
    "      const formData = new FormData();\n",
    "      const fileInput = document.getElementById('material');\n",
    "      formData.append('material', fileInput.files[0]);\n",
    "\n",
    "      const response = await fetch('/upload', {\n",
    "        method: 'POST',\n",
    "        body: formData\n",
    "      });\n",
    "      const data = await response.json();\n",
    "      const linkContainer = document.getElementById('linkContainer');\n",
    "      const fileLink = document.getElementById('fileLink');\n",
    "      fileLink.href = data.fileUrl;\n",
    "      fileLink.textContent = data.fileUrl;\n",
    "      linkContainer.style.display = 'block';\n",
    "    });\n",
    "  </script>\n",
    "</body>\n",
    "</html>\n"
   ]
  },
  {
   "cell_type": "markdown",
   "id": "f27e7c28-acda-4c79-867e-48fbd8c6aee9",
   "metadata": {},
   "source": [
    "Run the Application\n",
    "Create an uploads folder in the root of your project to store the uploaded files.\n",
    "Start your server:"
   ]
  },
  {
   "cell_type": "code",
   "execution_count": null,
   "id": "4ce730d0-9bf0-40ff-a7d1-9466eafbc37b",
   "metadata": {},
   "outputs": [],
   "source": [
    "node server.js"
   ]
  },
  {
   "cell_type": "code",
   "execution_count": null,
   "id": "c0ab433f-dba8-46fa-86b9-14560b211e3c",
   "metadata": {},
   "outputs": [],
   "source": [
    "# step 3\n",
    "how will i deployed application on a server "
   ]
  },
  {
   "cell_type": "code",
   "execution_count": null,
   "id": "cd34810f-2cae-4894-a669-bae8971f30ab",
   "metadata": {},
   "outputs": [],
   "source": [
    "# Hosted link\n",
    "\n"
   ]
  }
 ],
 "metadata": {
  "kernelspec": {
   "display_name": "Python 3 (ipykernel)",
   "language": "python",
   "name": "python3"
  },
  "language_info": {
   "codemirror_mode": {
    "name": "ipython",
    "version": 3
   },
   "file_extension": ".py",
   "mimetype": "text/x-python",
   "name": "python",
   "nbconvert_exporter": "python",
   "pygments_lexer": "ipython3",
   "version": "3.11.7"
  }
 },
 "nbformat": 4,
 "nbformat_minor": 5
}
